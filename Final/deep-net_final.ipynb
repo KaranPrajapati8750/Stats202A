{
 "cells": [
  {
   "cell_type": "code",
   "execution_count": 1,
   "metadata": {},
   "outputs": [],
   "source": [
    "import tensorflow as tf"
   ]
  },
  {
   "cell_type": "code",
   "execution_count": 2,
   "metadata": {},
   "outputs": [
    {
     "name": "stdout",
     "output_type": "stream",
     "text": [
      "Extracting /tmp/data/train-images-idx3-ubyte.gz\n",
      "Extracting /tmp/data/train-labels-idx1-ubyte.gz\n",
      "Extracting /tmp/data/t10k-images-idx3-ubyte.gz\n",
      "Extracting /tmp/data/t10k-labels-idx1-ubyte.gz\n"
     ]
    }
   ],
   "source": [
    "from tensorflow.examples.tutorials.mnist import input_data\n",
    "\n",
    "mnist = input_data.read_data_sets(\"/tmp/data/\", one_hot=True)"
   ]
  },
  {
   "cell_type": "code",
   "execution_count": 20,
   "metadata": {},
   "outputs": [
    {
     "name": "stdout",
     "output_type": "stream",
     "text": [
      "Epoch 0 completed out of 10 loss: 873.227049708\n",
      "Accuracy:  0.9404\n",
      "Epoch 1 completed out of 10 loss: 835.667012215\n",
      "Accuracy:  0.9524\n",
      "Epoch 2 completed out of 10 loss: 827.620868206\n",
      "Accuracy:  0.9635\n",
      "Epoch 3 completed out of 10 loss: 822.786332726\n",
      "Accuracy:  0.9689\n",
      "Epoch 4 completed out of 10 loss: 819.338124275\n",
      "Accuracy:  0.9708\n",
      "Epoch 5 completed out of 10 loss: 816.849138021\n",
      "Accuracy:  0.9719\n",
      "Epoch 6 completed out of 10 loss: 815.009624362\n",
      "Accuracy:  0.9717\n",
      "Epoch 7 completed out of 10 loss: 813.626091361\n",
      "Accuracy:  0.9746\n",
      "Epoch 8 completed out of 10 loss: 812.499165177\n",
      "Accuracy:  0.977\n",
      "Epoch 9 completed out of 10 loss: 811.656600356\n",
      "Accuracy:  0.9758\n"
     ]
    }
   ],
   "source": [
    "tf.reset_default_graph() \n",
    "n_nodes_hl1 = 300\n",
    "n_nodes_hl2 = 300\n",
    "n_nodes_hl3 = 500\n",
    "\n",
    "n_classes = 10\n",
    "batch_size = 100\n",
    "\n",
    "x = tf.placeholder('float',[None,784])\n",
    "y = tf.placeholder('float',)\n",
    "\n",
    "def neural_network_model(data):\n",
    "    #hidden_1_layer = {'weights' : tf.Variable(tf.random_normal([784, n_nodes_hl1], stddev=0.03)),\n",
    "     #                 'biases':tf.Variable(tf.random_normal([n_nodes_hl1]))}\n",
    "    hidden_1_layer = {'weights' : tf.get_variable(\"W1\", shape=[784, n_nodes_hl1],\n",
    "                               initializer=tf.contrib.layers.xavier_initializer()),\n",
    "                      'biases':tf.get_variable(\"b1\", shape=[n_nodes_hl1],\n",
    "           initializer=tf.contrib.layers.xavier_initializer())}\n",
    "    \n",
    "    \n",
    "    \n",
    "    #hidden_2_layer = {'weights' : tf.Variable(tf.random_normal([n_nodes_hl1, n_nodes_hl2])),\n",
    "     #                 'biases':tf.Variable(tf.random_normal([n_nodes_hl2]))}\n",
    "   # hidden_3_layer = {'weights' : tf.Variable(tf.random_normal([n_nodes_hl2, n_nodes_hl3])),\n",
    "    #                  'biases':tf.Variable(tf.random_normal([n_nodes_hl3]))}\n",
    "    #output_layer = {'weights' : tf.Variable(tf.random_normal([n_nodes_hl1, n_classes], stddev=0.03)),\n",
    "     #                 'biases':tf.Variable(tf.random_normal([n_classes]))}\n",
    "    output_layer = {'weights' : tf.get_variable(\"W2\", shape=[n_nodes_hl1, n_classes],\n",
    "                               initializer=tf.contrib.layers.xavier_initializer()),\n",
    "                      'biases':tf.get_variable(\"b2\", shape=[n_classes],\n",
    "           initializer=tf.contrib.layers.xavier_initializer())}\n",
    "    l1 = tf.add(tf.matmul(data, hidden_1_layer['weights']),hidden_1_layer['biases'])\n",
    "    l1 = tf.nn.relu(l1)\n",
    "    \n",
    "    #l2 = tf.add(tf.matmul(l1, hidden_2_layer['weights']),hidden_2_layer['biases'])\n",
    "    #l2 = tf.nn.softmax(l2)\n",
    "    \n",
    "    #l3 = tf.add(tf.matmul(l2, hidden_3_layer['weights']),hidden_3_layer['biases'])\n",
    "    #l3 = tf.nn.relu(l3)\n",
    "    \n",
    "    output = tf.nn.softmax(tf.add(tf.matmul(l1, output_layer['weights']),output_layer['biases']))\n",
    "    \n",
    "    return output\n",
    "def train_neural_network(x):\n",
    "    prediction = neural_network_model(x)\n",
    "    cost = tf.reduce_mean(tf.nn.softmax_cross_entropy_with_logits(logits = prediction,labels = y))\n",
    "    \n",
    "    optimizer = tf.train.AdamOptimizer().minimize(cost)\n",
    "    \n",
    "    hm_epochs = 10\n",
    "    \n",
    "    with tf.Session() as sess:\n",
    "        sess.run(tf.initialize_all_variables())\n",
    "        for epoch in range(hm_epochs):\n",
    "            epoch_loss = 0\n",
    "            for i in range(int(mnist.train.num_examples/batch_size)):\n",
    "                epoch_x,epoch_y = mnist.train.next_batch(batch_size)\n",
    "                _,c = sess.run([optimizer,cost], feed_dict = {x:epoch_x, y:epoch_y})\n",
    "                epoch_loss+=c\n",
    "            print('Epoch',epoch, 'completed out of', hm_epochs, 'loss:',epoch_loss)\n",
    "            correct = tf.equal(tf.argmax(prediction,1),tf.argmax(y,1))\n",
    "        \n",
    "            accuracy = tf.reduce_mean(tf.cast(correct,'float'))\n",
    "            print('Accuracy: ',accuracy.eval({x:mnist.test.images, y:mnist.test.labels}))\n",
    "        \n",
    "train_neural_network(x)"
   ]
  },
  {
   "cell_type": "code",
   "execution_count": null,
   "metadata": {},
   "outputs": [],
   "source": []
  },
  {
   "cell_type": "code",
   "execution_count": null,
   "metadata": {
    "collapsed": true
   },
   "outputs": [],
   "source": []
  }
 ],
 "metadata": {
  "anaconda-cloud": {},
  "kernelspec": {
   "display_name": "Python [default]",
   "language": "python",
   "name": "python3"
  },
  "language_info": {
   "codemirror_mode": {
    "name": "ipython",
    "version": 3
   },
   "file_extension": ".py",
   "mimetype": "text/x-python",
   "name": "python",
   "nbconvert_exporter": "python",
   "pygments_lexer": "ipython3",
   "version": "3.5.2"
  }
 },
 "nbformat": 4,
 "nbformat_minor": 1
}
